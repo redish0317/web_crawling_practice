{
 "cells": [
  {
   "cell_type": "code",
   "execution_count": 4,
   "id": "c1e88fb3",
   "metadata": {},
   "outputs": [],
   "source": [
    "import pandas as pd\n",
    "import numpy as np\n",
    "import matplotlib.pyplot as mlt\n",
    "import requests\n",
    "from bs4 import BeautifulSoup"
   ]
  },
  {
   "cell_type": "code",
   "execution_count": 16,
   "id": "c670f947",
   "metadata": {},
   "outputs": [
    {
     "data": {
      "text/plain": [
       "(37.541725158691406, 127.04335021972656)"
      ]
     },
     "execution_count": 16,
     "metadata": {},
     "output_type": "execute_result"
    }
   ],
   "source": [
    "addr = '성수동'\n",
    "\n",
    "url = 'https://apis.zigbang.com/v2/search?leaseYn=N&q={}&serviceType=아파트'.format(addr)\n",
    "'''\n",
    "urldecoder를 사용하면\n",
    "https://apis.zigbang.com/v2/search?leaseYn=N&q=%EC%84%B1%EC%88%98%EB%8F%99&serviceType=%EC%95%84%ED%8C%8C%ED%8A%B8\n",
    "를 아래의 한글 코드로 바꿀 수 있다. url에서 한글을 지원하지 않아 인코딩하고 써야한다.\n",
    "https://apis.zigbang.com/v2/search?leaseYn=N&q=성수동&serviceType=아파트\n",
    "'''\n",
    "datas = requests.get(url).json()['items'][0]\n",
    "lat, lng = datas['lat'], datas['lng']\n",
    "lat, lng"
   ]
  },
  {
   "cell_type": "code",
   "execution_count": null,
   "id": "d3dd0c01",
   "metadata": {},
   "outputs": [],
   "source": [
    "#ㄴㅁㄴㅇㅁㄴㅇㅁㄴㅇㄴㅇㅁㄴㅇㅇㄴ"
   ]
  },
  {
   "cell_type": "code",
   "execution_count": null,
   "id": "3f0235d5",
   "metadata": {},
   "outputs": [],
   "source": []
  }
 ],
 "metadata": {
  "kernelspec": {
   "display_name": "crawling",
   "language": "python",
   "name": "crawling"
  },
  "language_info": {
   "codemirror_mode": {
    "name": "ipython",
    "version": 3
   },
   "file_extension": ".py",
   "mimetype": "text/x-python",
   "name": "python",
   "nbconvert_exporter": "python",
   "pygments_lexer": "ipython3",
   "version": "3.8.13"
  }
 },
 "nbformat": 4,
 "nbformat_minor": 5
}
