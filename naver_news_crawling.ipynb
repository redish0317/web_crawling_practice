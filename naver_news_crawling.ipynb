{
 "cells": [
  {
   "cell_type": "code",
   "execution_count": 28,
   "id": "09e4a758",
   "metadata": {},
   "outputs": [],
   "source": [
    "import requests\n",
    "from bs4 import BeautifulSoup\n",
    "import numpy as np\n",
    "import pandas as pd\n",
    "import re"
   ]
  },
  {
   "cell_type": "code",
   "execution_count": 240,
   "id": "d915d585",
   "metadata": {},
   "outputs": [],
   "source": [
    "url = '''\n",
    "https://search.naver.com/search.naver?\n",
    "where=news&sm=tab_pge&\n",
    "query={search_word}\n",
    "&sort=0\n",
    "&photo=0&field=0&pd=3&\n",
    "ds={date}&de={date}\n",
    "&cluster_rank=28&mynews=0&office_type=0&office_section_code=0&news_office_checked=&nso=so:r,\n",
    "p:from{date_}to{date_},\n",
    "a:all&\n",
    "start={page}\n",
    "'''\n",
    "\n",
    "date = '2022.04.19'\n",
    "date_ = date.replace('.','')\n",
    "search_word = '사회적 거리두기'\n",
    "search_word = search_word.replace(' ','+')\n",
    "url = ''.join(url.format(date=date, date_ = date_, search_word=search_word ,page=1).split('\\n'))\n",
    "response = requests.get(url)\n",
    "html = response.text\n",
    "soup = BeautifulSoup(html, 'html.parser').select('a.news_tit')"
   ]
  },
  {
   "cell_type": "code",
   "execution_count": 242,
   "id": "498545dc",
   "metadata": {},
   "outputs": [
    {
     "data": {
      "text/plain": [
       "['https://www.seoul.co.kr/news/newsView.php?id=20220419500046&wlog_tag3=naver',\n",
       " 'http://news.mk.co.kr/newsRead.php?no=346922&year=2022',\n",
       " 'http://www.busan.com/view/busan/view.php?code=2022041910554791768',\n",
       " 'https://biz.chosun.com/stock/finance/2022/04/19/MFPPMRVL6RC5FBAWYTHHMASD3U/?utm_source=naver&utm_medium=original&utm_campaign=biz',\n",
       " 'http://www.newsis.com/view/?id=NISX20220419_0001839000&cID=14001&pID=14000',\n",
       " 'https://news.kbs.co.kr/news/view.do?ncd=5443242&ref=A',\n",
       " 'https://imnews.imbc.com/replay/2022/nwtoday/article/6360538_35752.html',\n",
       " 'https://www.yna.co.kr/view/PYH20220419128000013?did=1196m',\n",
       " 'https://health.chosun.com/site/data/html_dir/2022/04/19/2022041900894.html',\n",
       " 'http://www.newsis.com/view/?id=NISX20220419_0001838532&cID=10201&pID=10200']"
      ]
     },
     "execution_count": 242,
     "metadata": {},
     "output_type": "execute_result"
    }
   ],
   "source": [
    "links = [i.attrs['href'] for i in soup]\n",
    "links"
   ]
  },
  {
   "cell_type": "code",
   "execution_count": 198,
   "id": "9db3c2e5",
   "metadata": {},
   "outputs": [
    {
     "data": {
      "text/plain": [
       "['2020.03.01',\n",
       " '2020.03.02',\n",
       " '2020.03.03',\n",
       " '2020.03.04',\n",
       " '2020.03.05',\n",
       " '2020.03.06',\n",
       " '2020.03.07',\n",
       " '2020.03.08',\n",
       " '2020.03.09',\n",
       " '2020.03.10',\n",
       " '2020.03.11',\n",
       " '2020.03.12',\n",
       " '2020.03.13',\n",
       " '2020.03.14',\n",
       " '2020.03.15',\n",
       " '2020.03.16',\n",
       " '2020.03.17',\n",
       " '2020.03.18',\n",
       " '2020.03.19',\n",
       " '2020.03.20',\n",
       " '2020.03.21',\n",
       " '2020.03.22',\n",
       " '2020.03.23',\n",
       " '2020.03.24',\n",
       " '2020.03.25',\n",
       " '2020.03.26',\n",
       " '2020.03.27',\n",
       " '2020.03.28',\n",
       " '2020.03.29',\n",
       " '2020.03.30',\n",
       " '2020.03.31',\n",
       " '2020.04.01']"
      ]
     },
     "execution_count": 198,
     "metadata": {},
     "output_type": "execute_result"
    }
   ],
   "source": [
    "from datetime import datetime\n",
    "import pandas\n",
    "\n",
    "def date_range(start, end):\n",
    "    start = datetime.strptime(start, \"%Y.%m.%d\")\n",
    "    end = datetime.strptime(end, \"%Y.%m.%d\")\n",
    "    dates = [date.strftime(\"%Y.%m.%d\") for date in pandas.date_range(start, periods=(end-start).days+1)]\n",
    "    return dates\n",
    "\n",
    "date_range('2020.03.01','2020.04.01')"
   ]
  }
 ],
 "metadata": {
  "kernelspec": {
   "display_name": "crawling",
   "language": "python",
   "name": "crawling"
  },
  "language_info": {
   "codemirror_mode": {
    "name": "ipython",
    "version": 3
   },
   "file_extension": ".py",
   "mimetype": "text/x-python",
   "name": "python",
   "nbconvert_exporter": "python",
   "pygments_lexer": "ipython3",
   "version": "3.8.13"
  }
 },
 "nbformat": 4,
 "nbformat_minor": 5
}
